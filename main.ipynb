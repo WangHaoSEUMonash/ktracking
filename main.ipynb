{
 "cells": [
  {
   "cell_type": "code",
   "execution_count": 3,
   "metadata": {
    "collapsed": true
   },
   "outputs": [],
   "source": [
    "%matplotlib inline\n",
    "import matplotlib.pyplot as plt\n",
    "import cv2\n",
    "import numpy\n",
    "from dataset import Dataset"
   ]
  },
  {
   "cell_type": "markdown",
   "metadata": {},
   "source": [
    "# Constants"
   ]
  },
  {
   "cell_type": "code",
   "execution_count": 168,
   "metadata": {
    "collapsed": true
   },
   "outputs": [],
   "source": [
    "DATASET_PATH = 'dataset/bag/'\n",
    "NUM_BIN = 8"
   ]
  },
  {
   "cell_type": "code",
   "execution_count": 169,
   "metadata": {
    "collapsed": true
   },
   "outputs": [],
   "source": [
    "data = Dataset(DATASET_PATH)"
   ]
  },
  {
   "cell_type": "markdown",
   "metadata": {},
   "source": [
    "# Kernel"
   ]
  },
  {
   "cell_type": "code",
   "execution_count": 170,
   "metadata": {
    "collapsed": true
   },
   "outputs": [],
   "source": [
    "BAND = 255 /NUM_BIN\n",
    "def to_b_num(img):\n",
    "    b = (img //BAND).astype(int)\n",
    "    return numpy.minimum(b, 7)"
   ]
  },
  {
   "cell_type": "code",
   "execution_count": 171,
   "metadata": {
    "collapsed": true
   },
   "outputs": [],
   "source": [
    "def create_kernel(r, c):\n",
    "    \"\"\"\n",
    "    create kernel with epancechnikov profile\n",
    "    \n",
    "    @param r, c: size\n",
    "    \"\"\"\n",
    "    rr = numpy.arange(r) / (r-1) *2 -1\n",
    "    cc = numpy.arange(c) / (c-1) *2 -1\n",
    "    C, R = numpy.meshgrid(cc, rr)\n",
    "    X2 = C**2 + R**2\n",
    "    \n",
    "    kernel = numpy.maximum(1-X2, 0)\n",
    "    return kernel / numpy.sum(kernel)"
   ]
  },
  {
   "cell_type": "code",
   "execution_count": 173,
   "metadata": {},
   "outputs": [
    {
     "data": {
      "text/plain": [
       "<matplotlib.image.AxesImage at 0x7f812153e0f0>"
      ]
     },
     "execution_count": 173,
     "metadata": {},
     "output_type": "execute_result"
    },
    {
     "data": {
      "image/png": "[encoded data removed]",
      "text/plain": [
       "<matplotlib.figure.Figure at 0x7f81215a0b00>"
      ]
     },
     "metadata": {},
     "output_type": "display_data"
    }
   ],
   "source": [
    "plt.imshow(create_kernel(50, 150))"
   ]
  },
  {
   "cell_type": "markdown",
   "metadata": {},
   "source": [
    "# Target model"
   ]
  },
  {
   "cell_type": "code",
   "execution_count": 175,
   "metadata": {
    "collapsed": true
   },
   "outputs": [],
   "source": [
    "def create_target_model(target_img):\n",
    "    B = to_b_num(target_img)\n",
    "    \n",
    "    kernel = create_kernel(*target_img.shape[:2])\n",
    "    \n",
    "    M = numpy.empty((NUM_BIN, 3))\n",
    "    for b in range(NUM_BIN):\n",
    "        for ch in range(3):\n",
    "            M[b, ch] = numpy.sum(kernel[B[:,:,ch]==b])\n",
    "            \n",
    "    return M"
   ]
  },
  {
   "cell_type": "code",
   "execution_count": 191,
   "metadata": {},
   "outputs": [
    {
     "data": {
      "image/png": "[encoded data removed]",
      "text/plain": [
       "<matplotlib.figure.Figure at 0x7f8121661710>"
      ]
     },
     "metadata": {},
     "output_type": "display_data"
    },
    {
     "name": "stdout",
     "output_type": "stream",
     "text": [
      "[[ 0.          0.          0.        ]\n",
      " [ 0.          0.          0.        ]\n",
      " [ 0.          0.          0.        ]\n",
      " [ 0.00499092  0.00396631  0.00072165]\n",
      " [ 0.10339642  0.09344824  0.08623304]\n",
      " [ 0.14151272  0.16760138  0.18993672]\n",
      " [ 0.08680921  0.1887085   0.32822262]\n",
      " [ 0.66329073  0.54627557  0.39488597]]\n"
     ]
    }
   ],
   "source": [
    "tm = create_target_model(data.target(0))\n",
    "\n",
    "plt.imshow(tm)\n",
    "plt.colorbar()\n",
    "plt.show()\n",
    "print(tm)"
   ]
  },
  {
   "cell_type": "markdown",
   "metadata": {},
   "source": [
    "# Target Candidate"
   ]
  },
  {
   "cell_type": "code",
   "execution_count": 193,
   "metadata": {
    "collapsed": true
   },
   "outputs": [],
   "source": [
    "def create_target_candidate(img, center, diameter):\n",
    "    \"\"\"\n",
    "    @param orig_img  the entire img\n",
    "    @param num_bin   the num of hist bins\n",
    "    @param center    center (x, y)\n",
    "    @param diameter  mask diameter, aka normalized factor\n",
    "    \"\"\"\n",
    "    R, C = img.shape[:2]\n",
    "    c, r = center.astype(int)\n",
    "    \n",
    "    radius = int(min(diameter/2, R-r, C-c))\n",
    "    \n",
    "    target_img = img[r-radius:r+radius, c-radius:c+radius]\n",
    "    return create_target_model(target_img)"
   ]
  },
  {
   "cell_type": "code",
   "execution_count": 195,
   "metadata": {},
   "outputs": [
    {
     "data": {
      "image/png": "[encoded data removed]",
      "text/plain": [
       "<matplotlib.figure.Figure at 0x7f8121dd1438>"
      ]
     },
     "metadata": {},
     "output_type": "display_data"
    },
    {
     "name": "stdout",
     "output_type": "stream",
     "text": [
      "[[  0.00000000e+00   0.00000000e+00   0.00000000e+00]\n",
      " [  0.00000000e+00   0.00000000e+00   0.00000000e+00]\n",
      " [  0.00000000e+00   0.00000000e+00   0.00000000e+00]\n",
      " [  4.37388451e-03   3.58228332e-03   4.88615809e-04]\n",
      " [  7.96480430e-02   7.47189361e-02   7.10084460e-02]\n",
      " [  1.24682263e-01   1.45002993e-01   1.63884188e-01]\n",
      " [  8.58609641e-02   1.91591578e-01   3.40431538e-01]\n",
      " [  7.05434845e-01   5.85104210e-01   4.24187212e-01]]\n"
     ]
    }
   ],
   "source": [
    "tc = create_target_candidate(data.imgs[0], numpy.array([365, 194]), 132)\n",
    "\n",
    "plt.imshow(tc)\n",
    "plt.colorbar()\n",
    "plt.show()\n",
    "print(tc)"
   ]
  },
  {
   "cell_type": "code",
   "execution_count": null,
   "metadata": {
    "collapsed": true
   },
   "outputs": [],
   "source": []
  },
  {
   "cell_type": "code",
   "execution_count": null,
   "metadata": {
    "collapsed": true
   },
   "outputs": [],
   "source": []
  },
  {
   "cell_type": "code",
   "execution_count": null,
   "metadata": {
    "collapsed": true
   },
   "outputs": [],
   "source": []
  },
  {
   "cell_type": "code",
   "execution_count": null,
   "metadata": {
    "collapsed": true
   },
   "outputs": [],
   "source": []
  },
  {
   "cell_type": "code",
   "execution_count": null,
   "metadata": {
    "collapsed": true
   },
   "outputs": [],
   "source": []
  },
  {
   "cell_type": "code",
   "execution_count": null,
   "metadata": {
    "collapsed": true
   },
   "outputs": [],
   "source": []
  },
  {
   "cell_type": "markdown",
   "metadata": {},
   "source": [
    "# Bhattacharyya Coefficient Weight"
   ]
  },
  {
   "cell_type": "code",
   "execution_count": 265,
   "metadata": {},
   "outputs": [],
   "source": [
    "def calc_weight(img, target_model, target_candidate, center, diameter):\n",
    "    # pre-calculate weight coef\n",
    "    C = numpy.zeros((NUM_BIN, 3))\n",
    "    idx = target_candidate > 0\n",
    "    C[idx] = numpy.sqrt(target_model[idx] / target_candidate[idx])\n",
    "    \n",
    "    ##\n",
    "#     print('C')\n",
    "#     plt.imshow(C)\n",
    "#     plt.colorbar()\n",
    "#     plt.show()\n",
    "    \n",
    "    # estimate range\n",
    "    diameter = int(diameter)\n",
    "\n",
    "    cnr_c, cnr_r = center.astype(int) - (diameter >> 1)\n",
    "    target_img = to_b_num(img[cnr_r:cnr_r+diameter, cnr_c:cnr_c+diameter])\n",
    "    \n",
    "    ##\n",
    "#     print('tracking img')\n",
    "#     plt.imshow(target_img/7)\n",
    "#     plt.show()\n",
    "    \n",
    "    #\n",
    "    weight = numpy.empty((diameter, diameter))\n",
    "    for i in range(diameter):\n",
    "        for j in range(diameter):\n",
    "            b_val = target_img[i, j]\n",
    "            \n",
    "            c_val = 1.0\n",
    "            for ch in range(3):\n",
    "                c_val *= C[b_val[ch], ch]\n",
    "            weight[i, j] = c_val\n",
    "    \n",
    "    ##\n",
    "#     plt.imshow(weight)\n",
    "#     plt.colorbar()\n",
    "#     plt.show()\n",
    "    return weight"
   ]
  },
  {
   "cell_type": "code",
   "execution_count": 268,
   "metadata": {
    "scrolled": false
   },
   "outputs": [
    {
     "data": {
      "image/png": "[encoded data removed]",
      "text/plain": [
       "<matplotlib.figure.Figure at 0x7f812162b4e0>"
      ]
     },
     "metadata": {},
     "output_type": "display_data"
    }
   ],
   "source": [
    "W = calc_weight(data.imgs[1], tm, tc, numpy.array([365, 194]), 132)\n",
    "\n",
    "plt.imshow(W)\n",
    "plt.colorbar()\n",
    "plt.show()"
   ]
  },
  {
   "cell_type": "markdown",
   "metadata": {
    "collapsed": true
   },
   "source": [
    "# Meanshift"
   ]
  },
  {
   "cell_type": "code",
   "execution_count": 294,
   "metadata": {},
   "outputs": [],
   "source": [
    "def meanshift(weight):\n",
    "    \"\"\"\n",
    "    a round of meanshift in the algorithm\n",
    "    \n",
    "    @param  weight weight of the target candidates\n",
    "    @return        translation, in (x, y)\n",
    "    \"\"\"\n",
    "    # create G(X), derivation of kernel k(x)\n",
    "    r, c = weight.shape\n",
    "    \n",
    "    rr = numpy.arange(r) / (r-1) *2 -1\n",
    "    cc = numpy.arange(c) / (c-1) *2 -1\n",
    "    \n",
    "    C, R = numpy.meshgrid(cc, rr)\n",
    "    G = (C**2 + R**2) < 1\n",
    "    \n",
    "    # calculate density\n",
    "    density = weight *G\n",
    "    density /= -numpy.sum(density)\n",
    "    \n",
    "#     ##\n",
    "#     plt.imshow(density)\n",
    "#     plt.colorbar()\n",
    "#     plt.show()\n",
    "    \n",
    "    # measure shift\n",
    "    C *= density\n",
    "    R *= density\n",
    "    \n",
    "    sft_c = numpy.sum(C) *c\n",
    "    sft_r = numpy.sum(R) *r\n",
    "    \n",
    "    return int(sft_c), int(sft_r)\n",
    "    "
   ]
  },
  {
   "cell_type": "code",
   "execution_count": 293,
   "metadata": {},
   "outputs": [
    {
     "data": {
      "text/plain": [
       "(-8, -2)"
      ]
     },
     "execution_count": 293,
     "metadata": {},
     "output_type": "execute_result"
    }
   ],
   "source": [
    "meanshift(W)"
   ]
  },
  {
   "cell_type": "code",
   "execution_count": null,
   "metadata": {},
   "outputs": [],
   "source": []
  },
  {
   "cell_type": "code",
   "execution_count": null,
   "metadata": {
    "collapsed": true
   },
   "outputs": [],
   "source": []
  },
  {
   "cell_type": "code",
   "execution_count": null,
   "metadata": {
    "collapsed": true
   },
   "outputs": [],
   "source": []
  },
  {
   "cell_type": "code",
   "execution_count": null,
   "metadata": {
    "collapsed": true
   },
   "outputs": [],
   "source": []
  },
  {
   "cell_type": "code",
   "execution_count": null,
   "metadata": {
    "collapsed": true
   },
   "outputs": [],
   "source": []
  },
  {
   "cell_type": "code",
   "execution_count": null,
   "metadata": {
    "collapsed": true
   },
   "outputs": [],
   "source": []
  },
  {
   "cell_type": "code",
   "execution_count": null,
   "metadata": {
    "collapsed": true
   },
   "outputs": [],
   "source": []
  },
  {
   "cell_type": "code",
   "execution_count": null,
   "metadata": {
    "collapsed": true
   },
   "outputs": [],
   "source": []
  },
  {
   "cell_type": "code",
   "execution_count": null,
   "metadata": {
    "collapsed": true
   },
   "outputs": [],
   "source": []
  },
  {
   "cell_type": "markdown",
   "metadata": {},
   "source": [
    "# Bhattacharyya Coefficient Maximization"
   ]
  },
  {
   "cell_type": "markdown",
   "metadata": {},
   "source": [
    "Given the target model ${\\{\\hat{q_u}\\}}_{u=1\\dots m}$ and its location $\\hat{y_0}$ in the previous frame"
   ]
  },
  {
   "cell_type": "code",
   "execution_count": 128,
   "metadata": {
    "scrolled": true
   },
   "outputs": [
    {
     "data": {
      "text/plain": [
       "array([[ 0.        ,  0.        ,  0.        ],\n",
       "       [ 0.        ,  0.        ,  0.        ],\n",
       "       [ 0.        ,  0.        ,  0.        ],\n",
       "       [ 0.00499092,  0.00396631,  0.00072165],\n",
       "       [ 0.10339642,  0.09344824,  0.08623304],\n",
       "       [ 0.14151272,  0.16760138,  0.18993672],\n",
       "       [ 0.08680921,  0.1887085 ,  0.32822262],\n",
       "       [ 0.66329073,  0.54627557,  0.39488597]])"
      ]
     },
     "execution_count": 128,
     "metadata": {},
     "output_type": "execute_result"
    }
   ],
   "source": [
    "q = create_target_model(data.target(0))\n",
    "q"
   ]
  },
  {
   "cell_type": "code",
   "execution_count": 129,
   "metadata": {},
   "outputs": [
    {
     "data": {
      "text/plain": [
       "array([ 365.21 ,  194.595])"
      ]
     },
     "execution_count": 129,
     "metadata": {},
     "output_type": "execute_result"
    }
   ],
   "source": [
    "y0 = numpy.average(data.gtruth[0], 0)\n",
    "y0"
   ]
  },
  {
   "cell_type": "markdown",
   "metadata": {},
   "source": [
    "initialize the location of the target in the current frame with $\\hat{y_0}$, compute \n",
    "$$\n",
    "{\\{ \\hat{p}_u {( \\hat{y}_0 )} \\}}_{u=1 \\dots m}\n",
    "$$\n",
    "and evaluate\n",
    "$$\n",
    "\\rho{[ \\hat{p}{( \\hat{y}_0 )}, \\hat{q} ]}\n",
    "=\n",
    "\\sum_{u=1}^{m}{\\sqrt{\n",
    "\\hat{p}_u( \\hat{y}_0 ) \\hat{q}_u\n",
    "}}\n",
    "$$"
   ]
  },
  {
   "cell_type": "code",
   "execution_count": 130,
   "metadata": {},
   "outputs": [
    {
     "data": {
      "text/plain": [
       "132.46999999999997"
      ]
     },
     "execution_count": 130,
     "metadata": {},
     "output_type": "execute_result"
    }
   ],
   "source": [
    "h = numpy.min(numpy.diff(data.gtruth[0], axis=0))\n",
    "h"
   ]
  },
  {
   "cell_type": "code",
   "execution_count": 131,
   "metadata": {},
   "outputs": [
    {
     "data": {
      "text/plain": [
       "array([[ 0.        ,  0.        ,  0.        ],\n",
       "       [ 0.        ,  0.        ,  0.        ],\n",
       "       [ 0.        ,  0.        ,  0.        ],\n",
       "       [ 0.        ,  0.        ,  0.        ],\n",
       "       [ 0.0162712 ,  0.00518377,  0.00561404],\n",
       "       [ 0.19463493,  0.2365752 ,  0.26197093],\n",
       "       [ 0.11124786,  0.09482273,  0.08241354],\n",
       "       [ 0.67784601,  0.6634183 ,  0.65000148]])"
      ]
     },
     "execution_count": 131,
     "metadata": {},
     "output_type": "execute_result"
    }
   ],
   "source": [
    "p = create_target_candidate(data.imgs[1], y0, h)\n",
    "p"
   ]
  },
  {
   "cell_type": "code",
   "execution_count": 132,
   "metadata": {},
   "outputs": [
    {
     "data": {
      "text/plain": [
       "array([ 0.48849202,  0.42043781,  0.33396847])"
      ]
     },
     "execution_count": 132,
     "metadata": {},
     "output_type": "execute_result"
    }
   ],
   "source": [
    "rho = numpy.sum(p * q, 0)\n",
    "rho"
   ]
  },
  {
   "cell_type": "code",
   "execution_count": null,
   "metadata": {
    "collapsed": true
   },
   "outputs": [],
   "source": []
  },
  {
   "cell_type": "code",
   "execution_count": null,
   "metadata": {
    "collapsed": true
   },
   "outputs": [],
   "source": []
  },
  {
   "cell_type": "code",
   "execution_count": null,
   "metadata": {
    "collapsed": true
   },
   "outputs": [],
   "source": []
  },
  {
   "cell_type": "code",
   "execution_count": null,
   "metadata": {
    "collapsed": true
   },
   "outputs": [],
   "source": []
  },
  {
   "cell_type": "code",
   "execution_count": null,
   "metadata": {
    "collapsed": true
   },
   "outputs": [],
   "source": []
  },
  {
   "cell_type": "code",
   "execution_count": null,
   "metadata": {
    "collapsed": true
   },
   "outputs": [],
   "source": []
  },
  {
   "cell_type": "code",
   "execution_count": null,
   "metadata": {
    "collapsed": true
   },
   "outputs": [],
   "source": []
  },
  {
   "cell_type": "code",
   "execution_count": null,
   "metadata": {
    "collapsed": true
   },
   "outputs": [],
   "source": []
  },
  {
   "cell_type": "code",
   "execution_count": null,
   "metadata": {
    "collapsed": true
   },
   "outputs": [],
   "source": []
  },
  {
   "cell_type": "code",
   "execution_count": null,
   "metadata": {
    "collapsed": true
   },
   "outputs": [],
   "source": []
  },
  {
   "cell_type": "code",
   "execution_count": 196,
   "metadata": {},
   "outputs": [
    {
     "name": "stdout",
     "output_type": "stream",
     "text": [
      "Variable                  Type        Data/Info\n",
      "-----------------------------------------------\n",
      "BAND                      float       31.875\n",
      "DATASET_PATH              str         dataset/bag/\n",
      "Dataset                   type        <class '__main__.Dataset'>\n",
      "NUM_BIN                   int         8\n",
      "W                         ndarray     132x132: 17424 elems, type `float64`, 139392 bytes (136.125 kb)\n",
      "WW                        ndarray     132x132: 17424 elems, type `float64`, 139392 bytes (136.125 kb)\n",
      "calc_weight               function    <function calc_weight at 0x7f81218b99d8>\n",
      "create_kernel             function    <function create_kernel at 0x7f8121638620>\n",
      "create_target_candidate   function    <function create_target_c<...>didate at 0x7f81215e6ea0>\n",
      "create_target_model       function    <function create_target_model at 0x7f812157d048>\n",
      "cv2                       module      <module 'cv2' from '/opt/<...>36m-x86_64-linux-gnu.so'>\n",
      "data                      Dataset     <DataSet with 196 imgs>\n",
      "fig                       Figure      Figure(432x288)\n",
      "glob                      module      <module 'glob' from '/usr/lib/python3.6/glob.py'>\n",
      "h                         float64     132.47\n",
      "meanshift                 function    <function meanshift at 0x7f8121720bf8>\n",
      "numpy                     module      <module 'numpy' from '/op<...>kages/numpy/__init__.py'>\n",
      "os                        module      <module 'os' from '/usr/lib/python3.6/os.py'>\n",
      "p                         ndarray     8x3: 24 elems, type `float64`, 192 bytes\n",
      "plt                       module      <module 'matplotlib.pyplo<...>es/matplotlib/pyplot.py'>\n",
      "q                         ndarray     8x3: 24 elems, type `float64`, 192 bytes\n",
      "rho                       ndarray     3: 3 elems, type `float64`, 24 bytes\n",
      "tc                        ndarray     8x3: 24 elems, type `float64`, 192 bytes\n",
      "time                      module      <module 'time' (built-in)>\n",
      "tm                        ndarray     8x3: 24 elems, type `float64`, 192 bytes\n",
      "to_b_num                  function    <function to_b_num at 0x7f8121638d08>\n",
      "y0                        ndarray     2: 2 elems, type `float64`, 16 bytes\n"
     ]
    }
   ],
   "source": [
    "whos"
   ]
  },
  {
   "cell_type": "code",
   "execution_count": null,
   "metadata": {
    "collapsed": true
   },
   "outputs": [],
   "source": []
  },
  {
   "cell_type": "code",
   "execution_count": null,
   "metadata": {
    "collapsed": true
   },
   "outputs": [],
   "source": []
  },
  {
   "cell_type": "code",
   "execution_count": null,
   "metadata": {
    "collapsed": true
   },
   "outputs": [],
   "source": []
  }
 ],
 "metadata": {
  "kernelspec": {
   "display_name": "Python3.6 (OpenCV)",
   "language": "python",
   "name": "python-opencv"
  },
  "language_info": {
   "codemirror_mode": {
    "name": "ipython",
    "version": 3
   },
   "file_extension": ".py",
   "mimetype": "text/x-python",
   "name": "python",
   "nbconvert_exporter": "python",
   "pygments_lexer": "ipython3",
   "version": "3.6.1"
  }
 },
 "nbformat": 4,
 "nbformat_minor": 2
}
