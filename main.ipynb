{
 "cells": [
  {
   "cell_type": "code",
   "execution_count": 3,
   "metadata": {
    "collapsed": true
   },
   "outputs": [],
   "source": [
    "%matplotlib inline\n",
    "import matplotlib.pyplot as plt\n",
    "import cv2\n",
    "import numpy\n",
    "from dataset import Dataset"
   ]
  },
  {
   "cell_type": "markdown",
   "metadata": {},
   "source": [
    "# Constants"
   ]
  },
  {
   "cell_type": "code",
   "execution_count": 168,
   "metadata": {
    "collapsed": true
   },
   "outputs": [],
   "source": [
    "DATASET_PATH = 'dataset/bag/'\n",
    "NUM_BIN = 8"
   ]
  },
  {
   "cell_type": "code",
   "execution_count": 169,
   "metadata": {
    "collapsed": true
   },
   "outputs": [],
   "source": [
    "data = Dataset(DATASET_PATH)"
   ]
  },
  {
   "cell_type": "markdown",
   "metadata": {},
   "source": [
    "# Kernel"
   ]
  },
  {
   "cell_type": "code",
   "execution_count": 170,
   "metadata": {
    "collapsed": true
   },
   "outputs": [],
   "source": [
    "BAND = 255 /NUM_BIN\n",
    "def to_b_num(img):\n",
    "    b = (img //BAND).astype(int)\n",
    "    return numpy.minimum(b, 7)"
   ]
  },
  {
   "cell_type": "code",
   "execution_count": 171,
   "metadata": {
    "collapsed": true
   },
   "outputs": [],
   "source": [
    "def create_kernel(r, c):\n",
    "    \"\"\"\n",
    "    create kernel with epancechnikov profile\n",
    "    \n",
    "    @param r, c: size\n",
    "    \"\"\"\n",
    "    rr = numpy.arange(r) / (r-1) *2 -1\n",
    "    cc = numpy.arange(c) / (c-1) *2 -1\n",
    "    C, R = numpy.meshgrid(cc, rr)\n",
    "    X2 = C**2 + R**2\n",
    "    \n",
    "    kernel = numpy.maximum(1-X2, 0)\n",
    "    return kernel / numpy.sum(kernel)"
   ]
  },
  {
   "cell_type": "code",
   "execution_count": 173,
   "metadata": {},
   "outputs": [
    {
     "data": {
      "text/plain": [
       "<matplotlib.image.AxesImage at 0x7f812153e0f0>"
      ]
     },
     "execution_count": 173,
     "metadata": {},
     "output_type": "execute_result"
    },
    {
     "data": {
      "image/png": "[encoded data removed]",
      "text/plain": [
       "<matplotlib.figure.Figure at 0x7f81215a0b00>"
      ]
     },
     "metadata": {},
     "output_type": "display_data"
    }
   ],
   "source": [
    "plt.imshow(create_kernel(50, 150))"
   ]
  },
  {
   "cell_type": "markdown",
   "metadata": {},
   "source": [
    "# Target model"
   ]
  },
  {
   "cell_type": "code",
   "execution_count": 175,
   "metadata": {
    "collapsed": true
   },
   "outputs": [],
   "source": [
    "def create_target_model(target_img):\n",
    "    B = to_b_num(target_img)\n",
    "    \n",
    "    kernel = create_kernel(*target_img.shape[:2])\n",
    "    \n",
    "    M = numpy.empty((NUM_BIN, 3))\n",
    "    for b in range(NUM_BIN):\n",
    "        for ch in range(3):\n",
    "            M[b, ch] = numpy.sum(kernel[B[:,:,ch]==b])\n",
    "            \n",
    "    return M"
   ]
  },
  {
   "cell_type": "code",
   "execution_count": 176,
   "metadata": {},
   "outputs": [
    {
     "data": {
      "text/plain": [
       "array([[ 0.        ,  0.        ,  0.        ],\n",
       "       [ 0.        ,  0.        ,  0.        ],\n",
       "       [ 0.        ,  0.        ,  0.        ],\n",
       "       [ 0.00499092,  0.00396631,  0.00072165],\n",
       "       [ 0.10339642,  0.09344824,  0.08623304],\n",
       "       [ 0.14151272,  0.16760138,  0.18993672],\n",
       "       [ 0.08680921,  0.1887085 ,  0.32822262],\n",
       "       [ 0.66329073,  0.54627557,  0.39488597]])"
      ]
     },
     "execution_count": 176,
     "metadata": {},
     "output_type": "execute_result"
    }
   ],
   "source": [
    "create_target_model(data.target(0))"
   ]
  },
  {
   "cell_type": "markdown",
   "metadata": {},
   "source": [
    "# Target Candidate"
   ]
  },
  {
   "cell_type": "code",
   "execution_count": 182,
   "metadata": {
    "collapsed": true
   },
   "outputs": [],
   "source": [
    "def create_target_candidate(img, center, diameter):\n",
    "    \"\"\"\n",
    "    @param orig_img  the entire img\n",
    "    @param num_bin   the num of hist bins\n",
    "    @param center    center (x, y)\n",
    "    @param diameter  mask diameter, aka normalized factor\n",
    "    \"\"\"\n",
    "    R, C = img.shape[:2]\n",
    "    c, r = center.astype(int)\n",
    "    \n",
    "    h = int(min(diameter/2, R-r, C-c)/2)\n",
    "    h_2 = int(h/2)\n",
    "    \n",
    "    target_img = img[r-h_2:r+h_2, c-h_2:c+h_2]\n",
    "    return create_target_model(target_img)"
   ]
  },
  {
   "cell_type": "code",
   "execution_count": 184,
   "metadata": {},
   "outputs": [
    {
     "ename": "AttributeError",
     "evalue": "'tuple' object has no attribute 'astype'",
     "output_type": "error",
     "traceback": [
      "\u001b[0;31m---------------------------------------------------------------------------\u001b[0m",
      "\u001b[0;31mAttributeError\u001b[0m                            Traceback (most recent call last)",
      "\u001b[0;32m<ipython-input-184-4ea87958383e>\u001b[0m in \u001b[0;36m<module>\u001b[0;34m()\u001b[0m\n\u001b[0;32m----> 1\u001b[0;31m \u001b[0mcreate_target_candidate\u001b[0m\u001b[0;34m(\u001b[0m\u001b[0mdata\u001b[0m\u001b[0;34m.\u001b[0m\u001b[0mimgs\u001b[0m\u001b[0;34m[\u001b[0m\u001b[0;36m1\u001b[0m\u001b[0;34m]\u001b[0m\u001b[0;34m,\u001b[0m \u001b[0;34m(\u001b[0m\u001b[0;36m365\u001b[0m\u001b[0;34m,\u001b[0m \u001b[0;36m194\u001b[0m\u001b[0;34m)\u001b[0m\u001b[0;34m,\u001b[0m \u001b[0;36m132\u001b[0m\u001b[0;34m)\u001b[0m\u001b[0;34m\u001b[0m\u001b[0m\n\u001b[0m",
      "\u001b[0;32m<ipython-input-182-863aca0289b0>\u001b[0m in \u001b[0;36mcreate_target_candidate\u001b[0;34m(img, center, diameter)\u001b[0m\n\u001b[1;32m      7\u001b[0m     \"\"\"\n\u001b[1;32m      8\u001b[0m     \u001b[0mR\u001b[0m\u001b[0;34m,\u001b[0m \u001b[0mC\u001b[0m \u001b[0;34m=\u001b[0m \u001b[0mimg\u001b[0m\u001b[0;34m.\u001b[0m\u001b[0mshape\u001b[0m\u001b[0;34m[\u001b[0m\u001b[0;34m:\u001b[0m\u001b[0;36m2\u001b[0m\u001b[0;34m]\u001b[0m\u001b[0;34m\u001b[0m\u001b[0m\n\u001b[0;32m----> 9\u001b[0;31m     \u001b[0mc\u001b[0m\u001b[0;34m,\u001b[0m \u001b[0mr\u001b[0m \u001b[0;34m=\u001b[0m \u001b[0mcenter\u001b[0m\u001b[0;34m.\u001b[0m\u001b[0mastype\u001b[0m\u001b[0;34m(\u001b[0m\u001b[0mint\u001b[0m\u001b[0;34m)\u001b[0m\u001b[0;34m\u001b[0m\u001b[0m\n\u001b[0m\u001b[1;32m     10\u001b[0m \u001b[0;34m\u001b[0m\u001b[0m\n\u001b[1;32m     11\u001b[0m     \u001b[0mh_2\u001b[0m \u001b[0;34m=\u001b[0m \u001b[0mint\u001b[0m\u001b[0;34m(\u001b[0m\u001b[0mmin\u001b[0m\u001b[0;34m(\u001b[0m\u001b[0mdiameter\u001b[0m\u001b[0;34m/\u001b[0m\u001b[0;36m2\u001b[0m\u001b[0;34m,\u001b[0m \u001b[0mR\u001b[0m\u001b[0;34m-\u001b[0m\u001b[0mr\u001b[0m\u001b[0;34m,\u001b[0m \u001b[0mC\u001b[0m\u001b[0;34m-\u001b[0m\u001b[0mc\u001b[0m\u001b[0;34m)\u001b[0m\u001b[0;34m/\u001b[0m\u001b[0;36m2\u001b[0m\u001b[0;34m)\u001b[0m\u001b[0;34m\u001b[0m\u001b[0m\n",
      "\u001b[0;31mAttributeError\u001b[0m: 'tuple' object has no attribute 'astype'"
     ]
    }
   ],
   "source": [
    "create_target_candidate(data.imgs[1], numpy.array([365, 194]), 132)"
   ]
  },
  {
   "cell_type": "code",
   "execution_count": 164,
   "metadata": {},
   "outputs": [],
   "source": [
    "def calc_weight(img, target_model, target_candidate, center, diameter):\n",
    "    diameter = int(diameter)\n",
    "\n",
    "    cnr_c, cnr_r = center.astype(int) - (diameter >> 1)\n",
    "    target_img = to_b_num(img[cnr_r:cnr_r+diameter, cnr_c:cnr_c+diameter])\n",
    "    \n",
    "    C = numpy.zeros((NUM_BIN, 3))\n",
    "    idx = target_candidate > 0\n",
    "    C[idx] = numpy.sqrt(target_model[idx] / target_candidate[idx])\n",
    "\n",
    "    weight = numpy.empty((diameter, diameter))\n",
    "    for i in range(diameter):\n",
    "        for j in range(diameter):\n",
    "            weight[i, j] = numpy.prod(C[target_img[i, j]])\n",
    "    \n",
    "    plt.imshow(weight)\n",
    "    plt.colorbar()\n",
    "    return weight"
   ]
  },
  {
   "cell_type": "markdown",
   "metadata": {
    "collapsed": true
   },
   "source": [
    "# Target Candidate"
   ]
  },
  {
   "cell_type": "code",
   "execution_count": 165,
   "metadata": {
    "scrolled": true
   },
   "outputs": [
    {
     "data": {
      "text/plain": [
       "array([[  3.42477352e-01,   3.42477352e-01,   3.42477352e-01, ...,\n",
       "          1.07529678e+03,   1.07529678e+03,   1.56654675e+01],\n",
       "       [  3.42477352e-01,   3.42477352e-01,   3.42477352e-01, ...,\n",
       "          1.07529678e+03,   1.07529678e+03,   1.07529678e+03],\n",
       "       [  3.42477352e-01,   3.42477352e-01,   3.42477352e-01, ...,\n",
       "          7.38096819e+04,   1.07529678e+03,   1.07529678e+03],\n",
       "       ..., \n",
       "       [  7.38096819e+04,   0.00000000e+00,   0.00000000e+00, ...,\n",
       "          7.38096819e+04,   7.38096819e+04,   7.38096819e+04],\n",
       "       [  7.38096819e+04,   0.00000000e+00,   0.00000000e+00, ...,\n",
       "          7.38096819e+04,   7.38096819e+04,   7.38096819e+04],\n",
       "       [  0.00000000e+00,   0.00000000e+00,   0.00000000e+00, ...,\n",
       "          7.38096819e+04,   7.38096819e+04,   7.38096819e+04]])"
      ]
     },
     "execution_count": 165,
     "metadata": {},
     "output_type": "execute_result"
    },
    {
     "data": {
      "image/png": "[encoded data removed]",
      "text/plain": [
       "<matplotlib.figure.Figure at 0x7f8121ddf898>"
      ]
     },
     "metadata": {},
     "output_type": "display_data"
    }
   ],
   "source": [
    "W = calc_weight(data.imgs[1], q, p, y0, h)\n",
    "W"
   ]
  },
  {
   "cell_type": "code",
   "execution_count": null,
   "metadata": {},
   "outputs": [],
   "source": []
  },
  {
   "cell_type": "code",
   "execution_count": null,
   "metadata": {},
   "outputs": [],
   "source": []
  },
  {
   "cell_type": "code",
   "execution_count": 166,
   "metadata": {},
   "outputs": [],
   "source": [
    "def meanshift(weight):\n",
    "    # create G(X), derivation of kernel k(x)\n",
    "    r, c = weight.shape\n",
    "    \n",
    "    rr = numpy.arange(r) / (r-1) *2 -1\n",
    "    cc = numpy.arange(c) / (c-1) *2 -1\n",
    "    \n",
    "    C, R = numpy.meshgrid(cc, rr)\n",
    "    G = (C**2 + R**2) < 1\n",
    "    \n",
    "    # \n",
    "    density = weight *G\n",
    "    plt.imshow(density)"
   ]
  },
  {
   "cell_type": "code",
   "execution_count": 167,
   "metadata": {},
   "outputs": [
    {
     "data": {
      "image/png": "[encoded data removed]",
      "text/plain": [
       "<matplotlib.figure.Figure at 0x7f8121eb50b8>"
      ]
     },
     "metadata": {},
     "output_type": "display_data"
    }
   ],
   "source": [
    "meanshift(W)"
   ]
  },
  {
   "cell_type": "code",
   "execution_count": null,
   "metadata": {
    "collapsed": true
   },
   "outputs": [],
   "source": []
  },
  {
   "cell_type": "code",
   "execution_count": null,
   "metadata": {
    "collapsed": true
   },
   "outputs": [],
   "source": []
  },
  {
   "cell_type": "code",
   "execution_count": null,
   "metadata": {
    "collapsed": true
   },
   "outputs": [],
   "source": []
  },
  {
   "cell_type": "code",
   "execution_count": null,
   "metadata": {
    "collapsed": true
   },
   "outputs": [],
   "source": []
  },
  {
   "cell_type": "code",
   "execution_count": null,
   "metadata": {
    "collapsed": true
   },
   "outputs": [],
   "source": []
  },
  {
   "cell_type": "code",
   "execution_count": null,
   "metadata": {
    "collapsed": true
   },
   "outputs": [],
   "source": []
  },
  {
   "cell_type": "code",
   "execution_count": null,
   "metadata": {
    "collapsed": true
   },
   "outputs": [],
   "source": []
  },
  {
   "cell_type": "code",
   "execution_count": null,
   "metadata": {
    "collapsed": true
   },
   "outputs": [],
   "source": []
  },
  {
   "cell_type": "code",
   "execution_count": null,
   "metadata": {
    "collapsed": true
   },
   "outputs": [],
   "source": []
  },
  {
   "cell_type": "markdown",
   "metadata": {},
   "source": [
    "# Bhattacharyya Coefficient Maximization"
   ]
  },
  {
   "cell_type": "markdown",
   "metadata": {},
   "source": [
    "Given the target model ${\\{\\hat{q_u}\\}}_{u=1\\dots m}$ and its location $\\hat{y_0}$ in the previous frame"
   ]
  },
  {
   "cell_type": "code",
   "execution_count": 128,
   "metadata": {
    "scrolled": true
   },
   "outputs": [
    {
     "data": {
      "text/plain": [
       "array([[ 0.        ,  0.        ,  0.        ],\n",
       "       [ 0.        ,  0.        ,  0.        ],\n",
       "       [ 0.        ,  0.        ,  0.        ],\n",
       "       [ 0.00499092,  0.00396631,  0.00072165],\n",
       "       [ 0.10339642,  0.09344824,  0.08623304],\n",
       "       [ 0.14151272,  0.16760138,  0.18993672],\n",
       "       [ 0.08680921,  0.1887085 ,  0.32822262],\n",
       "       [ 0.66329073,  0.54627557,  0.39488597]])"
      ]
     },
     "execution_count": 128,
     "metadata": {},
     "output_type": "execute_result"
    }
   ],
   "source": [
    "q = create_target_model(data.target(0))\n",
    "q"
   ]
  },
  {
   "cell_type": "code",
   "execution_count": 129,
   "metadata": {},
   "outputs": [
    {
     "data": {
      "text/plain": [
       "array([ 365.21 ,  194.595])"
      ]
     },
     "execution_count": 129,
     "metadata": {},
     "output_type": "execute_result"
    }
   ],
   "source": [
    "y0 = numpy.average(data.gtruth[0], 0)\n",
    "y0"
   ]
  },
  {
   "cell_type": "markdown",
   "metadata": {},
   "source": [
    "initialize the location of the target in the current frame with $\\hat{y_0}$, compute \n",
    "$$\n",
    "{\\{ \\hat{p}_u {( \\hat{y}_0 )} \\}}_{u=1 \\dots m}\n",
    "$$\n",
    "and evaluate\n",
    "$$\n",
    "\\rho{[ \\hat{p}{( \\hat{y}_0 )}, \\hat{q} ]}\n",
    "=\n",
    "\\sum_{u=1}^{m}{\\sqrt{\n",
    "\\hat{p}_u( \\hat{y}_0 ) \\hat{q}_u\n",
    "}}\n",
    "$$"
   ]
  },
  {
   "cell_type": "code",
   "execution_count": 130,
   "metadata": {},
   "outputs": [
    {
     "data": {
      "text/plain": [
       "132.46999999999997"
      ]
     },
     "execution_count": 130,
     "metadata": {},
     "output_type": "execute_result"
    }
   ],
   "source": [
    "h = numpy.min(numpy.diff(data.gtruth[0], axis=0))\n",
    "h"
   ]
  },
  {
   "cell_type": "code",
   "execution_count": 131,
   "metadata": {},
   "outputs": [
    {
     "data": {
      "text/plain": [
       "array([[ 0.        ,  0.        ,  0.        ],\n",
       "       [ 0.        ,  0.        ,  0.        ],\n",
       "       [ 0.        ,  0.        ,  0.        ],\n",
       "       [ 0.        ,  0.        ,  0.        ],\n",
       "       [ 0.0162712 ,  0.00518377,  0.00561404],\n",
       "       [ 0.19463493,  0.2365752 ,  0.26197093],\n",
       "       [ 0.11124786,  0.09482273,  0.08241354],\n",
       "       [ 0.67784601,  0.6634183 ,  0.65000148]])"
      ]
     },
     "execution_count": 131,
     "metadata": {},
     "output_type": "execute_result"
    }
   ],
   "source": [
    "p = create_target_candidate(data.imgs[1], y0, h)\n",
    "p"
   ]
  },
  {
   "cell_type": "code",
   "execution_count": 132,
   "metadata": {},
   "outputs": [
    {
     "data": {
      "text/plain": [
       "array([ 0.48849202,  0.42043781,  0.33396847])"
      ]
     },
     "execution_count": 132,
     "metadata": {},
     "output_type": "execute_result"
    }
   ],
   "source": [
    "rho = numpy.sum(p * q, 0)\n",
    "rho"
   ]
  },
  {
   "cell_type": "code",
   "execution_count": null,
   "metadata": {
    "collapsed": true
   },
   "outputs": [],
   "source": []
  },
  {
   "cell_type": "code",
   "execution_count": null,
   "metadata": {
    "collapsed": true
   },
   "outputs": [],
   "source": []
  },
  {
   "cell_type": "code",
   "execution_count": null,
   "metadata": {
    "collapsed": true
   },
   "outputs": [],
   "source": []
  },
  {
   "cell_type": "code",
   "execution_count": null,
   "metadata": {
    "collapsed": true
   },
   "outputs": [],
   "source": []
  },
  {
   "cell_type": "code",
   "execution_count": null,
   "metadata": {
    "collapsed": true
   },
   "outputs": [],
   "source": []
  },
  {
   "cell_type": "code",
   "execution_count": null,
   "metadata": {
    "collapsed": true
   },
   "outputs": [],
   "source": []
  },
  {
   "cell_type": "code",
   "execution_count": null,
   "metadata": {
    "collapsed": true
   },
   "outputs": [],
   "source": []
  },
  {
   "cell_type": "code",
   "execution_count": null,
   "metadata": {
    "collapsed": true
   },
   "outputs": [],
   "source": []
  },
  {
   "cell_type": "code",
   "execution_count": null,
   "metadata": {
    "collapsed": true
   },
   "outputs": [],
   "source": []
  },
  {
   "cell_type": "code",
   "execution_count": null,
   "metadata": {
    "collapsed": true
   },
   "outputs": [],
   "source": []
  },
  {
   "cell_type": "code",
   "execution_count": null,
   "metadata": {
    "collapsed": true
   },
   "outputs": [],
   "source": []
  },
  {
   "cell_type": "code",
   "execution_count": null,
   "metadata": {
    "collapsed": true
   },
   "outputs": [],
   "source": []
  },
  {
   "cell_type": "code",
   "execution_count": null,
   "metadata": {
    "collapsed": true
   },
   "outputs": [],
   "source": []
  },
  {
   "cell_type": "code",
   "execution_count": null,
   "metadata": {
    "collapsed": true
   },
   "outputs": [],
   "source": []
  }
 ],
 "metadata": {
  "kernelspec": {
   "display_name": "Python3.6 (OpenCV)",
   "language": "python",
   "name": "python-opencv"
  },
  "language_info": {
   "codemirror_mode": {
    "name": "ipython",
    "version": 3
   },
   "file_extension": ".py",
   "mimetype": "text/x-python",
   "name": "python",
   "nbconvert_exporter": "python",
   "pygments_lexer": "ipython3",
   "version": "3.6.1"
  }
 },
 "nbformat": 4,
 "nbformat_minor": 2
}
